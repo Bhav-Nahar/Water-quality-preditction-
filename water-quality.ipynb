{
 "cells": [
  {
   "cell_type": "code",
   "execution_count": 1,
   "id": "8f7c8277",
   "metadata": {
    "_cell_guid": "b1076dfc-b9ad-4769-8c92-a6c4dae69d19",
    "_uuid": "8f2839f25d086af736a60e9eeb907d3b93b6e0e5",
    "execution": {
     "iopub.execute_input": "2021-08-14T06:35:11.676721Z",
     "iopub.status.busy": "2021-08-14T06:35:11.675529Z",
     "iopub.status.idle": "2021-08-14T06:35:11.699514Z",
     "shell.execute_reply": "2021-08-14T06:35:11.700197Z",
     "shell.execute_reply.started": "2021-08-14T05:30:20.164739Z"
    },
    "papermill": {
     "duration": 0.048301,
     "end_time": "2021-08-14T06:35:11.700526",
     "exception": false,
     "start_time": "2021-08-14T06:35:11.652225",
     "status": "completed"
    },
    "tags": []
   },
   "outputs": [
    {
     "name": "stdout",
     "output_type": "stream",
     "text": [
      "/kaggle/input/water-potability/water_potability.csv\n"
     ]
    }
   ],
   "source": [
    "# This Python 3 environment comes with many helpful analytics libraries installed\n",
    "# It is defined by the kaggle/python Docker image: https://github.com/kaggle/docker-python\n",
    "# For example, here's several helpful packages to load\n",
    "\n",
    "import numpy as np # linear algebra\n",
    "import pandas as pd # data processing, CSV file I/O (e.g. pd.read_csv)\n",
    "\n",
    "# Input data files are available in the read-only \"../input/\" directory\n",
    "# For example, running this (by clicking run or pressing Shift+Enter) will list all files under the input directory\n",
    "\n",
    "import os\n",
    "for dirname, _, filenames in os.walk('/kaggle/input'):\n",
    "    for filename in filenames:\n",
    "        print(os.path.join(dirname, filename))\n",
    "\n",
    "# You can write up to 20GB to the current directory (/kaggle/working/) that gets preserved as output when you create a version using \"Save & Run All\" \n",
    "# You can also write temporary files to /kaggle/temp/, but they won't be saved outside of the current session"
   ]
  },
  {
   "cell_type": "code",
   "execution_count": 2,
   "id": "b8c0011f",
   "metadata": {
    "execution": {
     "iopub.execute_input": "2021-08-14T06:35:11.761136Z",
     "iopub.status.busy": "2021-08-14T06:35:11.760099Z",
     "iopub.status.idle": "2021-08-14T06:35:12.804066Z",
     "shell.execute_reply": "2021-08-14T06:35:12.803259Z",
     "shell.execute_reply.started": "2021-08-14T05:45:22.772780Z"
    },
    "papermill": {
     "duration": 1.080768,
     "end_time": "2021-08-14T06:35:12.804219",
     "exception": false,
     "start_time": "2021-08-14T06:35:11.723451",
     "status": "completed"
    },
    "tags": []
   },
   "outputs": [],
   "source": [
    "import pandas as pd\n",
    "import numpy as ny\n",
    "import matplotlib.pyplot as plt\n",
    "%matplotlib inline\n",
    "import seaborn as sns"
   ]
  },
  {
   "cell_type": "code",
   "execution_count": 3,
   "id": "18e466ec",
   "metadata": {
    "execution": {
     "iopub.execute_input": "2021-08-14T06:35:12.850148Z",
     "iopub.status.busy": "2021-08-14T06:35:12.849374Z",
     "iopub.status.idle": "2021-08-14T06:35:12.897990Z",
     "shell.execute_reply": "2021-08-14T06:35:12.897376Z",
     "shell.execute_reply.started": "2021-08-14T05:46:03.825952Z"
    },
    "papermill": {
     "duration": 0.073589,
     "end_time": "2021-08-14T06:35:12.898136",
     "exception": false,
     "start_time": "2021-08-14T06:35:12.824547",
     "status": "completed"
    },
    "tags": []
   },
   "outputs": [],
   "source": [
    "dataf = pd.read_csv('../input/water-potability/water_potability.csv')"
   ]
  },
  {
   "cell_type": "code",
   "execution_count": 4,
   "id": "057c2d0f",
   "metadata": {
    "execution": {
     "iopub.execute_input": "2021-08-14T06:35:12.949160Z",
     "iopub.status.busy": "2021-08-14T06:35:12.948435Z",
     "iopub.status.idle": "2021-08-14T06:35:12.973322Z",
     "shell.execute_reply": "2021-08-14T06:35:12.973843Z",
     "shell.execute_reply.started": "2021-08-14T05:46:08.623152Z"
    },
    "papermill": {
     "duration": 0.056275,
     "end_time": "2021-08-14T06:35:12.974013",
     "exception": false,
     "start_time": "2021-08-14T06:35:12.917738",
     "status": "completed"
    },
    "tags": []
   },
   "outputs": [
    {
     "data": {
      "text/html": [
       "<div>\n",
       "<style scoped>\n",
       "    .dataframe tbody tr th:only-of-type {\n",
       "        vertical-align: middle;\n",
       "    }\n",
       "\n",
       "    .dataframe tbody tr th {\n",
       "        vertical-align: top;\n",
       "    }\n",
       "\n",
       "    .dataframe thead th {\n",
       "        text-align: right;\n",
       "    }\n",
       "</style>\n",
       "<table border=\"1\" class=\"dataframe\">\n",
       "  <thead>\n",
       "    <tr style=\"text-align: right;\">\n",
       "      <th></th>\n",
       "      <th>ph</th>\n",
       "      <th>Hardness</th>\n",
       "      <th>Solids</th>\n",
       "      <th>Chloramines</th>\n",
       "      <th>Sulfate</th>\n",
       "      <th>Conductivity</th>\n",
       "      <th>Organic_carbon</th>\n",
       "      <th>Trihalomethanes</th>\n",
       "      <th>Turbidity</th>\n",
       "      <th>Potability</th>\n",
       "    </tr>\n",
       "  </thead>\n",
       "  <tbody>\n",
       "    <tr>\n",
       "      <th>0</th>\n",
       "      <td>NaN</td>\n",
       "      <td>204.890455</td>\n",
       "      <td>20791.318981</td>\n",
       "      <td>7.300212</td>\n",
       "      <td>368.516441</td>\n",
       "      <td>564.308654</td>\n",
       "      <td>10.379783</td>\n",
       "      <td>86.990970</td>\n",
       "      <td>2.963135</td>\n",
       "      <td>0</td>\n",
       "    </tr>\n",
       "    <tr>\n",
       "      <th>1</th>\n",
       "      <td>3.716080</td>\n",
       "      <td>129.422921</td>\n",
       "      <td>18630.057858</td>\n",
       "      <td>6.635246</td>\n",
       "      <td>NaN</td>\n",
       "      <td>592.885359</td>\n",
       "      <td>15.180013</td>\n",
       "      <td>56.329076</td>\n",
       "      <td>4.500656</td>\n",
       "      <td>0</td>\n",
       "    </tr>\n",
       "    <tr>\n",
       "      <th>2</th>\n",
       "      <td>8.099124</td>\n",
       "      <td>224.236259</td>\n",
       "      <td>19909.541732</td>\n",
       "      <td>9.275884</td>\n",
       "      <td>NaN</td>\n",
       "      <td>418.606213</td>\n",
       "      <td>16.868637</td>\n",
       "      <td>66.420093</td>\n",
       "      <td>3.055934</td>\n",
       "      <td>0</td>\n",
       "    </tr>\n",
       "    <tr>\n",
       "      <th>3</th>\n",
       "      <td>8.316766</td>\n",
       "      <td>214.373394</td>\n",
       "      <td>22018.417441</td>\n",
       "      <td>8.059332</td>\n",
       "      <td>356.886136</td>\n",
       "      <td>363.266516</td>\n",
       "      <td>18.436524</td>\n",
       "      <td>100.341674</td>\n",
       "      <td>4.628771</td>\n",
       "      <td>0</td>\n",
       "    </tr>\n",
       "    <tr>\n",
       "      <th>4</th>\n",
       "      <td>9.092223</td>\n",
       "      <td>181.101509</td>\n",
       "      <td>17978.986339</td>\n",
       "      <td>6.546600</td>\n",
       "      <td>310.135738</td>\n",
       "      <td>398.410813</td>\n",
       "      <td>11.558279</td>\n",
       "      <td>31.997993</td>\n",
       "      <td>4.075075</td>\n",
       "      <td>0</td>\n",
       "    </tr>\n",
       "  </tbody>\n",
       "</table>\n",
       "</div>"
      ],
      "text/plain": [
       "         ph    Hardness        Solids  Chloramines     Sulfate  Conductivity  \\\n",
       "0       NaN  204.890455  20791.318981     7.300212  368.516441    564.308654   \n",
       "1  3.716080  129.422921  18630.057858     6.635246         NaN    592.885359   \n",
       "2  8.099124  224.236259  19909.541732     9.275884         NaN    418.606213   \n",
       "3  8.316766  214.373394  22018.417441     8.059332  356.886136    363.266516   \n",
       "4  9.092223  181.101509  17978.986339     6.546600  310.135738    398.410813   \n",
       "\n",
       "   Organic_carbon  Trihalomethanes  Turbidity  Potability  \n",
       "0       10.379783        86.990970   2.963135           0  \n",
       "1       15.180013        56.329076   4.500656           0  \n",
       "2       16.868637        66.420093   3.055934           0  \n",
       "3       18.436524       100.341674   4.628771           0  \n",
       "4       11.558279        31.997993   4.075075           0  "
      ]
     },
     "execution_count": 4,
     "metadata": {},
     "output_type": "execute_result"
    }
   ],
   "source": [
    "dataf.head()"
   ]
  },
  {
   "cell_type": "code",
   "execution_count": 5,
   "id": "00778318",
   "metadata": {
    "execution": {
     "iopub.execute_input": "2021-08-14T06:35:13.027769Z",
     "iopub.status.busy": "2021-08-14T06:35:13.027021Z",
     "iopub.status.idle": "2021-08-14T06:35:13.068004Z",
     "shell.execute_reply": "2021-08-14T06:35:13.067441Z",
     "shell.execute_reply.started": "2021-08-14T05:47:09.393456Z"
    },
    "papermill": {
     "duration": 0.073758,
     "end_time": "2021-08-14T06:35:13.068142",
     "exception": false,
     "start_time": "2021-08-14T06:35:12.994384",
     "status": "completed"
    },
    "tags": []
   },
   "outputs": [
    {
     "data": {
      "text/html": [
       "<div>\n",
       "<style scoped>\n",
       "    .dataframe tbody tr th:only-of-type {\n",
       "        vertical-align: middle;\n",
       "    }\n",
       "\n",
       "    .dataframe tbody tr th {\n",
       "        vertical-align: top;\n",
       "    }\n",
       "\n",
       "    .dataframe thead th {\n",
       "        text-align: right;\n",
       "    }\n",
       "</style>\n",
       "<table border=\"1\" class=\"dataframe\">\n",
       "  <thead>\n",
       "    <tr style=\"text-align: right;\">\n",
       "      <th></th>\n",
       "      <th>ph</th>\n",
       "      <th>Hardness</th>\n",
       "      <th>Solids</th>\n",
       "      <th>Chloramines</th>\n",
       "      <th>Sulfate</th>\n",
       "      <th>Conductivity</th>\n",
       "      <th>Organic_carbon</th>\n",
       "      <th>Trihalomethanes</th>\n",
       "      <th>Turbidity</th>\n",
       "      <th>Potability</th>\n",
       "    </tr>\n",
       "  </thead>\n",
       "  <tbody>\n",
       "    <tr>\n",
       "      <th>count</th>\n",
       "      <td>2785.000000</td>\n",
       "      <td>3276.000000</td>\n",
       "      <td>3276.000000</td>\n",
       "      <td>3276.000000</td>\n",
       "      <td>2495.000000</td>\n",
       "      <td>3276.000000</td>\n",
       "      <td>3276.000000</td>\n",
       "      <td>3114.000000</td>\n",
       "      <td>3276.000000</td>\n",
       "      <td>3276.000000</td>\n",
       "    </tr>\n",
       "    <tr>\n",
       "      <th>mean</th>\n",
       "      <td>7.080795</td>\n",
       "      <td>196.369496</td>\n",
       "      <td>22014.092526</td>\n",
       "      <td>7.122277</td>\n",
       "      <td>333.775777</td>\n",
       "      <td>426.205111</td>\n",
       "      <td>14.284970</td>\n",
       "      <td>66.396293</td>\n",
       "      <td>3.966786</td>\n",
       "      <td>0.390110</td>\n",
       "    </tr>\n",
       "    <tr>\n",
       "      <th>std</th>\n",
       "      <td>1.594320</td>\n",
       "      <td>32.879761</td>\n",
       "      <td>8768.570828</td>\n",
       "      <td>1.583085</td>\n",
       "      <td>41.416840</td>\n",
       "      <td>80.824064</td>\n",
       "      <td>3.308162</td>\n",
       "      <td>16.175008</td>\n",
       "      <td>0.780382</td>\n",
       "      <td>0.487849</td>\n",
       "    </tr>\n",
       "    <tr>\n",
       "      <th>min</th>\n",
       "      <td>0.000000</td>\n",
       "      <td>47.432000</td>\n",
       "      <td>320.942611</td>\n",
       "      <td>0.352000</td>\n",
       "      <td>129.000000</td>\n",
       "      <td>181.483754</td>\n",
       "      <td>2.200000</td>\n",
       "      <td>0.738000</td>\n",
       "      <td>1.450000</td>\n",
       "      <td>0.000000</td>\n",
       "    </tr>\n",
       "    <tr>\n",
       "      <th>25%</th>\n",
       "      <td>6.093092</td>\n",
       "      <td>176.850538</td>\n",
       "      <td>15666.690297</td>\n",
       "      <td>6.127421</td>\n",
       "      <td>307.699498</td>\n",
       "      <td>365.734414</td>\n",
       "      <td>12.065801</td>\n",
       "      <td>55.844536</td>\n",
       "      <td>3.439711</td>\n",
       "      <td>0.000000</td>\n",
       "    </tr>\n",
       "    <tr>\n",
       "      <th>50%</th>\n",
       "      <td>7.036752</td>\n",
       "      <td>196.967627</td>\n",
       "      <td>20927.833607</td>\n",
       "      <td>7.130299</td>\n",
       "      <td>333.073546</td>\n",
       "      <td>421.884968</td>\n",
       "      <td>14.218338</td>\n",
       "      <td>66.622485</td>\n",
       "      <td>3.955028</td>\n",
       "      <td>0.000000</td>\n",
       "    </tr>\n",
       "    <tr>\n",
       "      <th>75%</th>\n",
       "      <td>8.062066</td>\n",
       "      <td>216.667456</td>\n",
       "      <td>27332.762127</td>\n",
       "      <td>8.114887</td>\n",
       "      <td>359.950170</td>\n",
       "      <td>481.792304</td>\n",
       "      <td>16.557652</td>\n",
       "      <td>77.337473</td>\n",
       "      <td>4.500320</td>\n",
       "      <td>1.000000</td>\n",
       "    </tr>\n",
       "    <tr>\n",
       "      <th>max</th>\n",
       "      <td>14.000000</td>\n",
       "      <td>323.124000</td>\n",
       "      <td>61227.196008</td>\n",
       "      <td>13.127000</td>\n",
       "      <td>481.030642</td>\n",
       "      <td>753.342620</td>\n",
       "      <td>28.300000</td>\n",
       "      <td>124.000000</td>\n",
       "      <td>6.739000</td>\n",
       "      <td>1.000000</td>\n",
       "    </tr>\n",
       "  </tbody>\n",
       "</table>\n",
       "</div>"
      ],
      "text/plain": [
       "                ph     Hardness        Solids  Chloramines      Sulfate  \\\n",
       "count  2785.000000  3276.000000   3276.000000  3276.000000  2495.000000   \n",
       "mean      7.080795   196.369496  22014.092526     7.122277   333.775777   \n",
       "std       1.594320    32.879761   8768.570828     1.583085    41.416840   \n",
       "min       0.000000    47.432000    320.942611     0.352000   129.000000   \n",
       "25%       6.093092   176.850538  15666.690297     6.127421   307.699498   \n",
       "50%       7.036752   196.967627  20927.833607     7.130299   333.073546   \n",
       "75%       8.062066   216.667456  27332.762127     8.114887   359.950170   \n",
       "max      14.000000   323.124000  61227.196008    13.127000   481.030642   \n",
       "\n",
       "       Conductivity  Organic_carbon  Trihalomethanes    Turbidity   Potability  \n",
       "count   3276.000000     3276.000000      3114.000000  3276.000000  3276.000000  \n",
       "mean     426.205111       14.284970        66.396293     3.966786     0.390110  \n",
       "std       80.824064        3.308162        16.175008     0.780382     0.487849  \n",
       "min      181.483754        2.200000         0.738000     1.450000     0.000000  \n",
       "25%      365.734414       12.065801        55.844536     3.439711     0.000000  \n",
       "50%      421.884968       14.218338        66.622485     3.955028     0.000000  \n",
       "75%      481.792304       16.557652        77.337473     4.500320     1.000000  \n",
       "max      753.342620       28.300000       124.000000     6.739000     1.000000  "
      ]
     },
     "execution_count": 5,
     "metadata": {},
     "output_type": "execute_result"
    }
   ],
   "source": [
    "dataf.describe()"
   ]
  },
  {
   "cell_type": "code",
   "execution_count": 6,
   "id": "145d96ab",
   "metadata": {
    "execution": {
     "iopub.execute_input": "2021-08-14T06:35:13.116950Z",
     "iopub.status.busy": "2021-08-14T06:35:13.116210Z",
     "iopub.status.idle": "2021-08-14T06:35:13.133502Z",
     "shell.execute_reply": "2021-08-14T06:35:13.132721Z",
     "shell.execute_reply.started": "2021-08-14T05:48:09.595833Z"
    },
    "papermill": {
     "duration": 0.043524,
     "end_time": "2021-08-14T06:35:13.133697",
     "exception": false,
     "start_time": "2021-08-14T06:35:13.090173",
     "status": "completed"
    },
    "tags": []
   },
   "outputs": [
    {
     "name": "stdout",
     "output_type": "stream",
     "text": [
      "<class 'pandas.core.frame.DataFrame'>\n",
      "RangeIndex: 3276 entries, 0 to 3275\n",
      "Data columns (total 10 columns):\n",
      " #   Column           Non-Null Count  Dtype  \n",
      "---  ------           --------------  -----  \n",
      " 0   ph               2785 non-null   float64\n",
      " 1   Hardness         3276 non-null   float64\n",
      " 2   Solids           3276 non-null   float64\n",
      " 3   Chloramines      3276 non-null   float64\n",
      " 4   Sulfate          2495 non-null   float64\n",
      " 5   Conductivity     3276 non-null   float64\n",
      " 6   Organic_carbon   3276 non-null   float64\n",
      " 7   Trihalomethanes  3114 non-null   float64\n",
      " 8   Turbidity        3276 non-null   float64\n",
      " 9   Potability       3276 non-null   int64  \n",
      "dtypes: float64(9), int64(1)\n",
      "memory usage: 256.1 KB\n"
     ]
    }
   ],
   "source": [
    "dataf.info()"
   ]
  },
  {
   "cell_type": "code",
   "execution_count": 7,
   "id": "e49395b0",
   "metadata": {
    "execution": {
     "iopub.execute_input": "2021-08-14T06:35:13.184790Z",
     "iopub.status.busy": "2021-08-14T06:35:13.183873Z",
     "iopub.status.idle": "2021-08-14T06:35:13.188846Z",
     "shell.execute_reply": "2021-08-14T06:35:13.188265Z",
     "shell.execute_reply.started": "2021-08-14T05:48:35.807719Z"
    },
    "papermill": {
     "duration": 0.03387,
     "end_time": "2021-08-14T06:35:13.189006",
     "exception": false,
     "start_time": "2021-08-14T06:35:13.155136",
     "status": "completed"
    },
    "tags": []
   },
   "outputs": [
    {
     "data": {
      "text/plain": [
       "ph                 491\n",
       "Hardness             0\n",
       "Solids               0\n",
       "Chloramines          0\n",
       "Sulfate            781\n",
       "Conductivity         0\n",
       "Organic_carbon       0\n",
       "Trihalomethanes    162\n",
       "Turbidity            0\n",
       "Potability           0\n",
       "dtype: int64"
      ]
     },
     "execution_count": 7,
     "metadata": {},
     "output_type": "execute_result"
    }
   ],
   "source": [
    "dataf.isnull().sum()"
   ]
  },
  {
   "cell_type": "code",
   "execution_count": 8,
   "id": "c3c59979",
   "metadata": {
    "execution": {
     "iopub.execute_input": "2021-08-14T06:35:13.250656Z",
     "iopub.status.busy": "2021-08-14T06:35:13.249370Z",
     "iopub.status.idle": "2021-08-14T06:35:13.257625Z",
     "shell.execute_reply": "2021-08-14T06:35:13.257038Z",
     "shell.execute_reply.started": "2021-08-14T05:51:50.602482Z"
    },
    "papermill": {
     "duration": 0.047036,
     "end_time": "2021-08-14T06:35:13.257775",
     "exception": false,
     "start_time": "2021-08-14T06:35:13.210739",
     "status": "completed"
    },
    "tags": []
   },
   "outputs": [
    {
     "data": {
      "text/html": [
       "<div>\n",
       "<style scoped>\n",
       "    .dataframe tbody tr th:only-of-type {\n",
       "        vertical-align: middle;\n",
       "    }\n",
       "\n",
       "    .dataframe tbody tr th {\n",
       "        vertical-align: top;\n",
       "    }\n",
       "\n",
       "    .dataframe thead th {\n",
       "        text-align: right;\n",
       "    }\n",
       "</style>\n",
       "<table border=\"1\" class=\"dataframe\">\n",
       "  <thead>\n",
       "    <tr style=\"text-align: right;\">\n",
       "      <th></th>\n",
       "      <th>ph</th>\n",
       "      <th>Hardness</th>\n",
       "      <th>Solids</th>\n",
       "      <th>Chloramines</th>\n",
       "      <th>Sulfate</th>\n",
       "      <th>Conductivity</th>\n",
       "      <th>Organic_carbon</th>\n",
       "      <th>Trihalomethanes</th>\n",
       "      <th>Turbidity</th>\n",
       "    </tr>\n",
       "  </thead>\n",
       "  <tbody>\n",
       "    <tr>\n",
       "      <th>0</th>\n",
       "      <td>NaN</td>\n",
       "      <td>204.890455</td>\n",
       "      <td>20791.318981</td>\n",
       "      <td>7.300212</td>\n",
       "      <td>368.516441</td>\n",
       "      <td>564.308654</td>\n",
       "      <td>10.379783</td>\n",
       "      <td>86.990970</td>\n",
       "      <td>2.963135</td>\n",
       "    </tr>\n",
       "    <tr>\n",
       "      <th>1</th>\n",
       "      <td>3.716080</td>\n",
       "      <td>129.422921</td>\n",
       "      <td>18630.057858</td>\n",
       "      <td>6.635246</td>\n",
       "      <td>NaN</td>\n",
       "      <td>592.885359</td>\n",
       "      <td>15.180013</td>\n",
       "      <td>56.329076</td>\n",
       "      <td>4.500656</td>\n",
       "    </tr>\n",
       "    <tr>\n",
       "      <th>2</th>\n",
       "      <td>8.099124</td>\n",
       "      <td>224.236259</td>\n",
       "      <td>19909.541732</td>\n",
       "      <td>9.275884</td>\n",
       "      <td>NaN</td>\n",
       "      <td>418.606213</td>\n",
       "      <td>16.868637</td>\n",
       "      <td>66.420093</td>\n",
       "      <td>3.055934</td>\n",
       "    </tr>\n",
       "    <tr>\n",
       "      <th>3</th>\n",
       "      <td>8.316766</td>\n",
       "      <td>214.373394</td>\n",
       "      <td>22018.417441</td>\n",
       "      <td>8.059332</td>\n",
       "      <td>356.886136</td>\n",
       "      <td>363.266516</td>\n",
       "      <td>18.436524</td>\n",
       "      <td>100.341674</td>\n",
       "      <td>4.628771</td>\n",
       "    </tr>\n",
       "    <tr>\n",
       "      <th>4</th>\n",
       "      <td>9.092223</td>\n",
       "      <td>181.101509</td>\n",
       "      <td>17978.986339</td>\n",
       "      <td>6.546600</td>\n",
       "      <td>310.135738</td>\n",
       "      <td>398.410813</td>\n",
       "      <td>11.558279</td>\n",
       "      <td>31.997993</td>\n",
       "      <td>4.075075</td>\n",
       "    </tr>\n",
       "  </tbody>\n",
       "</table>\n",
       "</div>"
      ],
      "text/plain": [
       "         ph    Hardness        Solids  Chloramines     Sulfate  Conductivity  \\\n",
       "0       NaN  204.890455  20791.318981     7.300212  368.516441    564.308654   \n",
       "1  3.716080  129.422921  18630.057858     6.635246         NaN    592.885359   \n",
       "2  8.099124  224.236259  19909.541732     9.275884         NaN    418.606213   \n",
       "3  8.316766  214.373394  22018.417441     8.059332  356.886136    363.266516   \n",
       "4  9.092223  181.101509  17978.986339     6.546600  310.135738    398.410813   \n",
       "\n",
       "   Organic_carbon  Trihalomethanes  Turbidity  \n",
       "0       10.379783        86.990970   2.963135  \n",
       "1       15.180013        56.329076   4.500656  \n",
       "2       16.868637        66.420093   3.055934  \n",
       "3       18.436524       100.341674   4.628771  \n",
       "4       11.558279        31.997993   4.075075  "
      ]
     },
     "execution_count": 8,
     "metadata": {},
     "output_type": "execute_result"
    }
   ],
   "source": [
    "X = dataf.drop('Potability',axis=1)\n",
    "y = dataf['Potability']\n",
    "X.head()"
   ]
  },
  {
   "cell_type": "code",
   "execution_count": 9,
   "id": "0c652451",
   "metadata": {
    "execution": {
     "iopub.execute_input": "2021-08-14T06:35:13.317902Z",
     "iopub.status.busy": "2021-08-14T06:35:13.316777Z",
     "iopub.status.idle": "2021-08-14T06:35:13.725745Z",
     "shell.execute_reply": "2021-08-14T06:35:13.725159Z",
     "shell.execute_reply.started": "2021-08-14T05:53:44.855017Z"
    },
    "papermill": {
     "duration": 0.441466,
     "end_time": "2021-08-14T06:35:13.725909",
     "exception": false,
     "start_time": "2021-08-14T06:35:13.284443",
     "status": "completed"
    },
    "tags": []
   },
   "outputs": [],
   "source": [
    "from sklearn.model_selection import train_test_split\n",
    "from sklearn.ensemble import RandomForestClassifier"
   ]
  },
  {
   "cell_type": "code",
   "execution_count": 10,
   "id": "df1728bf",
   "metadata": {
    "execution": {
     "iopub.execute_input": "2021-08-14T06:35:13.776969Z",
     "iopub.status.busy": "2021-08-14T06:35:13.776242Z",
     "iopub.status.idle": "2021-08-14T06:35:13.781565Z",
     "shell.execute_reply": "2021-08-14T06:35:13.781018Z",
     "shell.execute_reply.started": "2021-08-14T05:56:17.001980Z"
    },
    "papermill": {
     "duration": 0.033078,
     "end_time": "2021-08-14T06:35:13.781716",
     "exception": false,
     "start_time": "2021-08-14T06:35:13.748638",
     "status": "completed"
    },
    "tags": []
   },
   "outputs": [],
   "source": [
    "X_train, X_test, y_train, y_test = train_test_split(X,y,test_size=0.33)"
   ]
  },
  {
   "cell_type": "code",
   "execution_count": 11,
   "id": "f29c254d",
   "metadata": {
    "execution": {
     "iopub.execute_input": "2021-08-14T06:35:13.842526Z",
     "iopub.status.busy": "2021-08-14T06:35:13.841555Z",
     "iopub.status.idle": "2021-08-14T06:35:13.845994Z",
     "shell.execute_reply": "2021-08-14T06:35:13.845302Z",
     "shell.execute_reply.started": "2021-08-14T05:56:29.176354Z"
    },
    "papermill": {
     "duration": 0.04198,
     "end_time": "2021-08-14T06:35:13.846138",
     "exception": false,
     "start_time": "2021-08-14T06:35:13.804158",
     "status": "completed"
    },
    "tags": []
   },
   "outputs": [
    {
     "data": {
      "text/html": [
       "<div>\n",
       "<style scoped>\n",
       "    .dataframe tbody tr th:only-of-type {\n",
       "        vertical-align: middle;\n",
       "    }\n",
       "\n",
       "    .dataframe tbody tr th {\n",
       "        vertical-align: top;\n",
       "    }\n",
       "\n",
       "    .dataframe thead th {\n",
       "        text-align: right;\n",
       "    }\n",
       "</style>\n",
       "<table border=\"1\" class=\"dataframe\">\n",
       "  <thead>\n",
       "    <tr style=\"text-align: right;\">\n",
       "      <th></th>\n",
       "      <th>ph</th>\n",
       "      <th>Hardness</th>\n",
       "      <th>Solids</th>\n",
       "      <th>Chloramines</th>\n",
       "      <th>Sulfate</th>\n",
       "      <th>Conductivity</th>\n",
       "      <th>Organic_carbon</th>\n",
       "      <th>Trihalomethanes</th>\n",
       "      <th>Turbidity</th>\n",
       "    </tr>\n",
       "  </thead>\n",
       "  <tbody>\n",
       "    <tr>\n",
       "      <th>1555</th>\n",
       "      <td>7.033945</td>\n",
       "      <td>246.622871</td>\n",
       "      <td>15428.450916</td>\n",
       "      <td>7.570769</td>\n",
       "      <td>305.616422</td>\n",
       "      <td>516.217847</td>\n",
       "      <td>17.526819</td>\n",
       "      <td>91.602794</td>\n",
       "      <td>3.931731</td>\n",
       "    </tr>\n",
       "    <tr>\n",
       "      <th>1690</th>\n",
       "      <td>7.643578</td>\n",
       "      <td>209.860844</td>\n",
       "      <td>21885.503784</td>\n",
       "      <td>9.529228</td>\n",
       "      <td>NaN</td>\n",
       "      <td>337.632173</td>\n",
       "      <td>8.863614</td>\n",
       "      <td>63.646921</td>\n",
       "      <td>3.762163</td>\n",
       "    </tr>\n",
       "    <tr>\n",
       "      <th>1434</th>\n",
       "      <td>7.322502</td>\n",
       "      <td>196.104298</td>\n",
       "      <td>19534.421648</td>\n",
       "      <td>6.661157</td>\n",
       "      <td>297.841381</td>\n",
       "      <td>418.075511</td>\n",
       "      <td>17.161768</td>\n",
       "      <td>69.467359</td>\n",
       "      <td>2.981649</td>\n",
       "    </tr>\n",
       "    <tr>\n",
       "      <th>98</th>\n",
       "      <td>7.205559</td>\n",
       "      <td>120.327615</td>\n",
       "      <td>24627.867560</td>\n",
       "      <td>6.202469</td>\n",
       "      <td>289.768697</td>\n",
       "      <td>418.433290</td>\n",
       "      <td>13.643147</td>\n",
       "      <td>63.733732</td>\n",
       "      <td>3.710053</td>\n",
       "    </tr>\n",
       "    <tr>\n",
       "      <th>1592</th>\n",
       "      <td>5.772770</td>\n",
       "      <td>186.060603</td>\n",
       "      <td>26693.761607</td>\n",
       "      <td>5.808580</td>\n",
       "      <td>333.073364</td>\n",
       "      <td>312.869364</td>\n",
       "      <td>12.376272</td>\n",
       "      <td>32.761161</td>\n",
       "      <td>4.154685</td>\n",
       "    </tr>\n",
       "  </tbody>\n",
       "</table>\n",
       "</div>"
      ],
      "text/plain": [
       "            ph    Hardness        Solids  Chloramines     Sulfate  \\\n",
       "1555  7.033945  246.622871  15428.450916     7.570769  305.616422   \n",
       "1690  7.643578  209.860844  21885.503784     9.529228         NaN   \n",
       "1434  7.322502  196.104298  19534.421648     6.661157  297.841381   \n",
       "98    7.205559  120.327615  24627.867560     6.202469  289.768697   \n",
       "1592  5.772770  186.060603  26693.761607     5.808580  333.073364   \n",
       "\n",
       "      Conductivity  Organic_carbon  Trihalomethanes  Turbidity  \n",
       "1555    516.217847       17.526819        91.602794   3.931731  \n",
       "1690    337.632173        8.863614        63.646921   3.762163  \n",
       "1434    418.075511       17.161768        69.467359   2.981649  \n",
       "98      418.433290       13.643147        63.733732   3.710053  \n",
       "1592    312.869364       12.376272        32.761161   4.154685  "
      ]
     },
     "execution_count": 11,
     "metadata": {},
     "output_type": "execute_result"
    }
   ],
   "source": [
    "X_train.head()"
   ]
  },
  {
   "cell_type": "code",
   "execution_count": 12,
   "id": "b9b41dbd",
   "metadata": {
    "execution": {
     "iopub.execute_input": "2021-08-14T06:35:13.896964Z",
     "iopub.status.busy": "2021-08-14T06:35:13.896202Z",
     "iopub.status.idle": "2021-08-14T06:35:13.903656Z",
     "shell.execute_reply": "2021-08-14T06:35:13.902991Z",
     "shell.execute_reply.started": "2021-08-14T05:56:51.160886Z"
    },
    "papermill": {
     "duration": 0.034789,
     "end_time": "2021-08-14T06:35:13.903808",
     "exception": false,
     "start_time": "2021-08-14T06:35:13.869019",
     "status": "completed"
    },
    "tags": []
   },
   "outputs": [
    {
     "data": {
      "text/plain": [
       "ph                 348\n",
       "Hardness             0\n",
       "Solids               0\n",
       "Chloramines          0\n",
       "Sulfate            558\n",
       "Conductivity         0\n",
       "Organic_carbon       0\n",
       "Trihalomethanes    116\n",
       "Turbidity            0\n",
       "dtype: int64"
      ]
     },
     "execution_count": 12,
     "metadata": {},
     "output_type": "execute_result"
    }
   ],
   "source": [
    "X_train.isnull().sum()"
   ]
  },
  {
   "cell_type": "code",
   "execution_count": 13,
   "id": "2118d3ef",
   "metadata": {
    "execution": {
     "iopub.execute_input": "2021-08-14T06:35:13.955212Z",
     "iopub.status.busy": "2021-08-14T06:35:13.954421Z",
     "iopub.status.idle": "2021-08-14T06:35:13.961360Z",
     "shell.execute_reply": "2021-08-14T06:35:13.961893Z",
     "shell.execute_reply.started": "2021-08-14T05:57:32.001047Z"
    },
    "papermill": {
     "duration": 0.034898,
     "end_time": "2021-08-14T06:35:13.962065",
     "exception": false,
     "start_time": "2021-08-14T06:35:13.927167",
     "status": "completed"
    },
    "tags": []
   },
   "outputs": [
    {
     "data": {
      "text/plain": [
       "ph                 0.096116\n",
       "Hardness          -0.038269\n",
       "Solids             0.588480\n",
       "Chloramines        0.074755\n",
       "Sulfate           -0.048132\n",
       "Conductivity       0.299285\n",
       "Organic_carbon    -0.083889\n",
       "Trihalomethanes   -0.109794\n",
       "Turbidity         -0.014483\n",
       "dtype: float64"
      ]
     },
     "execution_count": 13,
     "metadata": {},
     "output_type": "execute_result"
    }
   ],
   "source": [
    "X_train.skew()"
   ]
  },
  {
   "cell_type": "code",
   "execution_count": 14,
   "id": "88b93e31",
   "metadata": {
    "execution": {
     "iopub.execute_input": "2021-08-14T06:35:14.011829Z",
     "iopub.status.busy": "2021-08-14T06:35:14.011188Z",
     "iopub.status.idle": "2021-08-14T06:35:15.610404Z",
     "shell.execute_reply": "2021-08-14T06:35:15.609877Z",
     "shell.execute_reply.started": "2021-08-14T05:58:18.623291Z"
    },
    "papermill": {
     "duration": 1.625025,
     "end_time": "2021-08-14T06:35:15.610564",
     "exception": false,
     "start_time": "2021-08-14T06:35:13.985539",
     "status": "completed"
    },
    "tags": []
   },
   "outputs": [
    {
     "data": {
      "text/plain": [
       "array([[<AxesSubplot:title={'center':'ph'}>,\n",
       "        <AxesSubplot:title={'center':'Hardness'}>,\n",
       "        <AxesSubplot:title={'center':'Solids'}>],\n",
       "       [<AxesSubplot:title={'center':'Chloramines'}>,\n",
       "        <AxesSubplot:title={'center':'Sulfate'}>,\n",
       "        <AxesSubplot:title={'center':'Conductivity'}>],\n",
       "       [<AxesSubplot:title={'center':'Organic_carbon'}>,\n",
       "        <AxesSubplot:title={'center':'Trihalomethanes'}>,\n",
       "        <AxesSubplot:title={'center':'Turbidity'}>]], dtype=object)"
      ]
     },
     "execution_count": 14,
     "metadata": {},
     "output_type": "execute_result"
    },
    {
     "data": {
      "image/png": "[encoded data removed]",
      "text/plain": [
       "<Figure size 1080x576 with 9 Axes>"
      ]
     },
     "metadata": {
      "needs_background": "light"
     },
     "output_type": "display_data"
    }
   ],
   "source": [
    "X_train.hist(figsize=(15,8))"
   ]
  },
  {
   "cell_type": "code",
   "execution_count": 15,
   "id": "5274cd74",
   "metadata": {
    "execution": {
     "iopub.execute_input": "2021-08-14T06:35:15.666175Z",
     "iopub.status.busy": "2021-08-14T06:35:15.665420Z",
     "iopub.status.idle": "2021-08-14T06:35:15.684399Z",
     "shell.execute_reply": "2021-08-14T06:35:15.683829Z",
     "shell.execute_reply.started": "2021-08-14T06:03:35.036721Z"
    },
    "papermill": {
     "duration": 0.049392,
     "end_time": "2021-08-14T06:35:15.684557",
     "exception": false,
     "start_time": "2021-08-14T06:35:15.635165",
     "status": "completed"
    },
    "tags": []
   },
   "outputs": [],
   "source": [
    "from sklearn.impute import SimpleImputer\n",
    "imputer = SimpleImputer(strategy='median')\n",
    "imputer.fit(X_train)\n",
    "X_train = imputer.transform(X_train)\n",
    "X_test = imputer.transform(X_test)"
   ]
  },
  {
   "cell_type": "code",
   "execution_count": 16,
   "id": "3f4c64d4",
   "metadata": {
    "execution": {
     "iopub.execute_input": "2021-08-14T06:35:15.738248Z",
     "iopub.status.busy": "2021-08-14T06:35:15.737598Z",
     "iopub.status.idle": "2021-08-14T06:35:15.741555Z",
     "shell.execute_reply": "2021-08-14T06:35:15.742078Z",
     "shell.execute_reply.started": "2021-08-14T06:06:36.988603Z"
    },
    "papermill": {
     "duration": 0.033342,
     "end_time": "2021-08-14T06:35:15.742248",
     "exception": false,
     "start_time": "2021-08-14T06:35:15.708906",
     "status": "completed"
    },
    "tags": []
   },
   "outputs": [
    {
     "name": "stdout",
     "output_type": "stream",
     "text": [
      "<class 'numpy.ndarray'>\n"
     ]
    }
   ],
   "source": [
    "print(type(X_train))"
   ]
  },
  {
   "cell_type": "code",
   "execution_count": 17,
   "id": "33e75f95",
   "metadata": {
    "execution": {
     "iopub.execute_input": "2021-08-14T06:35:15.809878Z",
     "iopub.status.busy": "2021-08-14T06:35:15.808959Z",
     "iopub.status.idle": "2021-08-14T06:35:15.814006Z",
     "shell.execute_reply": "2021-08-14T06:35:15.813429Z",
     "shell.execute_reply.started": "2021-08-14T06:07:50.895259Z"
    },
    "papermill": {
     "duration": 0.046259,
     "end_time": "2021-08-14T06:35:15.814148",
     "exception": false,
     "start_time": "2021-08-14T06:35:15.767889",
     "status": "completed"
    },
    "tags": []
   },
   "outputs": [
    {
     "data": {
      "text/html": [
       "<div>\n",
       "<style scoped>\n",
       "    .dataframe tbody tr th:only-of-type {\n",
       "        vertical-align: middle;\n",
       "    }\n",
       "\n",
       "    .dataframe tbody tr th {\n",
       "        vertical-align: top;\n",
       "    }\n",
       "\n",
       "    .dataframe thead th {\n",
       "        text-align: right;\n",
       "    }\n",
       "</style>\n",
       "<table border=\"1\" class=\"dataframe\">\n",
       "  <thead>\n",
       "    <tr style=\"text-align: right;\">\n",
       "      <th></th>\n",
       "      <th>0</th>\n",
       "      <th>1</th>\n",
       "      <th>2</th>\n",
       "      <th>3</th>\n",
       "      <th>4</th>\n",
       "      <th>5</th>\n",
       "      <th>6</th>\n",
       "      <th>7</th>\n",
       "      <th>8</th>\n",
       "    </tr>\n",
       "  </thead>\n",
       "  <tbody>\n",
       "    <tr>\n",
       "      <th>0</th>\n",
       "      <td>7.033945</td>\n",
       "      <td>246.622871</td>\n",
       "      <td>15428.450916</td>\n",
       "      <td>7.570769</td>\n",
       "      <td>305.616422</td>\n",
       "      <td>516.217847</td>\n",
       "      <td>17.526819</td>\n",
       "      <td>91.602794</td>\n",
       "      <td>3.931731</td>\n",
       "    </tr>\n",
       "    <tr>\n",
       "      <th>1</th>\n",
       "      <td>7.643578</td>\n",
       "      <td>209.860844</td>\n",
       "      <td>21885.503784</td>\n",
       "      <td>9.529228</td>\n",
       "      <td>332.805850</td>\n",
       "      <td>337.632173</td>\n",
       "      <td>8.863614</td>\n",
       "      <td>63.646921</td>\n",
       "      <td>3.762163</td>\n",
       "    </tr>\n",
       "    <tr>\n",
       "      <th>2</th>\n",
       "      <td>7.322502</td>\n",
       "      <td>196.104298</td>\n",
       "      <td>19534.421648</td>\n",
       "      <td>6.661157</td>\n",
       "      <td>297.841381</td>\n",
       "      <td>418.075511</td>\n",
       "      <td>17.161768</td>\n",
       "      <td>69.467359</td>\n",
       "      <td>2.981649</td>\n",
       "    </tr>\n",
       "    <tr>\n",
       "      <th>3</th>\n",
       "      <td>7.205559</td>\n",
       "      <td>120.327615</td>\n",
       "      <td>24627.867560</td>\n",
       "      <td>6.202469</td>\n",
       "      <td>289.768697</td>\n",
       "      <td>418.433290</td>\n",
       "      <td>13.643147</td>\n",
       "      <td>63.733732</td>\n",
       "      <td>3.710053</td>\n",
       "    </tr>\n",
       "    <tr>\n",
       "      <th>4</th>\n",
       "      <td>5.772770</td>\n",
       "      <td>186.060603</td>\n",
       "      <td>26693.761607</td>\n",
       "      <td>5.808580</td>\n",
       "      <td>333.073364</td>\n",
       "      <td>312.869364</td>\n",
       "      <td>12.376272</td>\n",
       "      <td>32.761161</td>\n",
       "      <td>4.154685</td>\n",
       "    </tr>\n",
       "  </tbody>\n",
       "</table>\n",
       "</div>"
      ],
      "text/plain": [
       "          0           1             2         3           4           5  \\\n",
       "0  7.033945  246.622871  15428.450916  7.570769  305.616422  516.217847   \n",
       "1  7.643578  209.860844  21885.503784  9.529228  332.805850  337.632173   \n",
       "2  7.322502  196.104298  19534.421648  6.661157  297.841381  418.075511   \n",
       "3  7.205559  120.327615  24627.867560  6.202469  289.768697  418.433290   \n",
       "4  5.772770  186.060603  26693.761607  5.808580  333.073364  312.869364   \n",
       "\n",
       "           6          7         8  \n",
       "0  17.526819  91.602794  3.931731  \n",
       "1   8.863614  63.646921  3.762163  \n",
       "2  17.161768  69.467359  2.981649  \n",
       "3  13.643147  63.733732  3.710053  \n",
       "4  12.376272  32.761161  4.154685  "
      ]
     },
     "execution_count": 17,
     "metadata": {},
     "output_type": "execute_result"
    }
   ],
   "source": [
    "x_train = pd.DataFrame(X_train)\n",
    "x_test = pd.DataFrame(X_test)\n",
    "x_train.head()\n"
   ]
  },
  {
   "cell_type": "code",
   "execution_count": 18,
   "id": "46559c5d",
   "metadata": {
    "execution": {
     "iopub.execute_input": "2021-08-14T06:35:15.875919Z",
     "iopub.status.busy": "2021-08-14T06:35:15.875234Z",
     "iopub.status.idle": "2021-08-14T06:35:15.884091Z",
     "shell.execute_reply": "2021-08-14T06:35:15.883542Z",
     "shell.execute_reply.started": "2021-08-14T06:13:20.449271Z"
    },
    "papermill": {
     "duration": 0.043089,
     "end_time": "2021-08-14T06:35:15.884232",
     "exception": false,
     "start_time": "2021-08-14T06:35:15.841143",
     "status": "completed"
    },
    "tags": []
   },
   "outputs": [],
   "source": [
    "from sklearn import preprocessing\n",
    "scaler = preprocessing.StandardScaler()\n",
    "scaler.fit(x_train)\n",
    "x_train = scaler.transform(x_train)\n",
    "x_test = scaler.transform(x_test)"
   ]
  },
  {
   "cell_type": "code",
   "execution_count": 19,
   "id": "123534ba",
   "metadata": {
    "execution": {
     "iopub.execute_input": "2021-08-14T06:35:15.941414Z",
     "iopub.status.busy": "2021-08-14T06:35:15.940651Z",
     "iopub.status.idle": "2021-08-14T06:35:15.943935Z",
     "shell.execute_reply": "2021-08-14T06:35:15.943373Z",
     "shell.execute_reply.started": "2021-08-14T06:15:30.200902Z"
    },
    "papermill": {
     "duration": 0.033706,
     "end_time": "2021-08-14T06:35:15.944072",
     "exception": false,
     "start_time": "2021-08-14T06:35:15.910366",
     "status": "completed"
    },
    "tags": []
   },
   "outputs": [],
   "source": [
    "from sklearn.tree import DecisionTreeClassifier\n",
    "from sklearn.ensemble import RandomForestClassifier\n",
    "from sklearn.svm import SVC\n",
    "from sklearn.metrics import accuracy_score"
   ]
  },
  {
   "cell_type": "code",
   "execution_count": 20,
   "id": "65a5d829",
   "metadata": {
    "execution": {
     "iopub.execute_input": "2021-08-14T06:35:16.006887Z",
     "iopub.status.busy": "2021-08-14T06:35:16.002030Z",
     "iopub.status.idle": "2021-08-14T06:35:16.039107Z",
     "shell.execute_reply": "2021-08-14T06:35:16.038494Z",
     "shell.execute_reply.started": "2021-08-14T06:18:01.857765Z"
    },
    "papermill": {
     "duration": 0.068804,
     "end_time": "2021-08-14T06:35:16.039254",
     "exception": false,
     "start_time": "2021-08-14T06:35:15.970450",
     "status": "completed"
    },
    "tags": []
   },
   "outputs": [
    {
     "data": {
      "text/plain": [
       "0.5536044362292052"
      ]
     },
     "execution_count": 20,
     "metadata": {},
     "output_type": "execute_result"
    }
   ],
   "source": [
    "d_tree = DecisionTreeClassifier()\n",
    "d_tree.fit(x_train,y_train)\n",
    "y_pred_tree= d_tree.predict(x_test)\n",
    "y_prob_tree =d_tree.predict_proba(x_test)\n",
    "acc=accuracy_score(y_test,y_pred_tree)\n",
    "acc"
   ]
  },
  {
   "cell_type": "code",
   "execution_count": 21,
   "id": "7e6dec59",
   "metadata": {
    "execution": {
     "iopub.execute_input": "2021-08-14T06:35:16.104222Z",
     "iopub.status.busy": "2021-08-14T06:35:16.097849Z",
     "iopub.status.idle": "2021-08-14T06:35:16.993480Z",
     "shell.execute_reply": "2021-08-14T06:35:16.992421Z",
     "shell.execute_reply.started": "2021-08-14T06:18:39.712941Z"
    },
    "papermill": {
     "duration": 0.927951,
     "end_time": "2021-08-14T06:35:16.993639",
     "exception": false,
     "start_time": "2021-08-14T06:35:16.065688",
     "status": "completed"
    },
    "tags": []
   },
   "outputs": [
    {
     "data": {
      "text/plain": [
       "0.6635859519408502"
      ]
     },
     "execution_count": 21,
     "metadata": {},
     "output_type": "execute_result"
    }
   ],
   "source": [
    "rf = RandomForestClassifier()\n",
    "rf.fit(x_train,y_train)\n",
    "y_pred_rf= rf.predict(x_test)\n",
    "y_prob_rf =rf.predict_proba(x_test)\n",
    "acc=accuracy_score(y_test,y_pred_rf)\n",
    "acc"
   ]
  },
  {
   "cell_type": "code",
   "execution_count": 22,
   "id": "9b5b02f7",
   "metadata": {
    "execution": {
     "iopub.execute_input": "2021-08-14T06:35:17.055652Z",
     "iopub.status.busy": "2021-08-14T06:35:17.054914Z",
     "iopub.status.idle": "2021-08-14T06:35:18.223699Z",
     "shell.execute_reply": "2021-08-14T06:35:18.223148Z",
     "shell.execute_reply.started": "2021-08-14T06:23:05.039118Z"
    },
    "papermill": {
     "duration": 1.203238,
     "end_time": "2021-08-14T06:35:18.223850",
     "exception": false,
     "start_time": "2021-08-14T06:35:17.020612",
     "status": "completed"
    },
    "tags": []
   },
   "outputs": [
    {
     "data": {
      "text/plain": [
       "0.6811460258780037"
      ]
     },
     "execution_count": 22,
     "metadata": {},
     "output_type": "execute_result"
    }
   ],
   "source": [
    "sv = SVC(probability=True)\n",
    "sv.fit(x_train,y_train)\n",
    "y_pred_sv = sv.predict(x_test)\n",
    "y_prob_sv = sv.predict_proba(x_test)\n",
    "acc= accuracy_score(y_test,y_pred_sv)\n",
    "acc"
   ]
  },
  {
   "cell_type": "code",
   "execution_count": null,
   "id": "d4edb9f8",
   "metadata": {
    "papermill": {
     "duration": 0.026068,
     "end_time": "2021-08-14T06:35:18.276393",
     "exception": false,
     "start_time": "2021-08-14T06:35:18.250325",
     "status": "completed"
    },
    "tags": []
   },
   "outputs": [],
   "source": []
  }
 ],
 "metadata": {
  "kernelspec": {
   "display_name": "Python 3",
   "language": "python",
   "name": "python3"
  },
  "language_info": {
   "codemirror_mode": {
    "name": "ipython",
    "version": 3
   },
   "file_extension": ".py",
   "mimetype": "text/x-python",
   "name": "python",
   "nbconvert_exporter": "python",
   "pygments_lexer": "ipython3",
   "version": "3.7.10"
  },
  "papermill": {
   "default_parameters": {},
   "duration": 16.848117,
   "end_time": "2021-08-14T06:35:20.036361",
   "environment_variables": {},
   "exception": null,
   "input_path": "__notebook__.ipynb",
   "output_path": "__notebook__.ipynb",
   "parameters": {},
   "start_time": "2021-08-14T06:35:03.188244",
   "version": "2.3.3"
  }
 },
 "nbformat": 4,
 "nbformat_minor": 5
}
